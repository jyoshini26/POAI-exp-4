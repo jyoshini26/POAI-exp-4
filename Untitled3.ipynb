{
  "nbformat": 4,
  "nbformat_minor": 0,
  "metadata": {
    "colab": {
      "provenance": [],
      "authorship_tag": "ABX9TyOB+fSLm+or6ELenjEoSD+p",
      "include_colab_link": true
    },
    "kernelspec": {
      "name": "python3",
      "display_name": "Python 3"
    },
    "language_info": {
      "name": "python"
    }
  },
  "cells": [
    {
      "cell_type": "markdown",
      "metadata": {
        "id": "view-in-github",
        "colab_type": "text"
      },
      "source": [
        "<a href=\"https://colab.research.google.com/github/jyoshini26/POAI-exp-4/blob/main/Untitled3.ipynb\" target=\"_parent\"><img src=\"https://colab.research.google.com/assets/colab-badge.svg\" alt=\"Open In Colab\"/></a>"
      ]
    },
    {
      "cell_type": "code",
      "execution_count": 1,
      "metadata": {
        "colab": {
          "base_uri": "https://localhost:8080/"
        },
        "id": "IKsq2_KXmBq9",
        "outputId": "533eb716-80e3-4fc3-f5b4-c4cd3ce45511"
      },
      "outputs": [
        {
          "output_type": "stream",
          "name": "stdout",
          "text": [
            "Path found: [(0, 0), (0, 1), (1, 1), (2, 1), (3, 1), (3, 2), (3, 3)]\n"
          ]
        }
      ],
      "source": [
        "import heapq\n",
        "\n",
        "class Node:\n",
        "    def __init__(self, position, g=0, h=0, parent=None):\n",
        "        self.position = position  # (x, y)\n",
        "        self.g = g  # cost from start\n",
        "        self.h = h  # heuristic cost to goal\n",
        "        self.f = g + h  # total cost\n",
        "        self.parent = parent\n",
        "\n",
        "    def __lt__(self, other):\n",
        "        return self.f < other.f\n",
        "\n",
        "def heuristic(a, b):\n",
        "    return abs(a[0] - b[0]) + abs(a[1] - b[1])  # Manhattan distance\n",
        "\n",
        "def get_neighbors(position, grid):\n",
        "    x, y = position\n",
        "    neighbors = []\n",
        "    for dx, dy in [(-1,0), (1,0), (0,-1), (0,1)]:\n",
        "        nx, ny = x + dx, y + dy\n",
        "        if 0 <= nx < len(grid) and 0 <= ny < len(grid[0]) and grid[nx][ny] == 1:\n",
        "            neighbors.append((nx, ny))\n",
        "    return neighbors\n",
        "\n",
        "def reconstruct_path(end_node):\n",
        "    path = []\n",
        "    current = end_node\n",
        "    while current:\n",
        "        path.append(current.position)\n",
        "        current = current.parent\n",
        "    return path[::-1]\n",
        "\n",
        "def astar(grid, start, goal):\n",
        "    open_list = []\n",
        "    closed_set = set()\n",
        "\n",
        "    start_node = Node(start, g=0, h=heuristic(start, goal))\n",
        "    heapq.heappush(open_list, start_node)\n",
        "\n",
        "    while open_list:\n",
        "        current_node = heapq.heappop(open_list)\n",
        "\n",
        "        if current_node.position == goal:\n",
        "            return reconstruct_path(current_node)\n",
        "\n",
        "        closed_set.add(current_node.position)\n",
        "\n",
        "        for neighbor_pos in get_neighbors(current_node.position, grid):\n",
        "            if neighbor_pos in closed_set:\n",
        "                continue\n",
        "\n",
        "            g_cost = current_node.g + 1\n",
        "            h_cost = heuristic(neighbor_pos, goal)\n",
        "            neighbor_node = Node(neighbor_pos, g=g_cost, h=h_cost, parent=current_node)\n",
        "\n",
        "            # Check if a better path already exists in open_list\n",
        "            for node in open_list:\n",
        "                if node.position == neighbor_pos and node.f <= neighbor_node.f:\n",
        "                    break\n",
        "            else:\n",
        "                heapq.heappush(open_list, neighbor_node)\n",
        "\n",
        "    return None\n",
        "\n",
        "# Example grid\n",
        "grid = [\n",
        "    [1, 1, 1, 1],\n",
        "    [0, 1, 0, 1],\n",
        "    [1, 1, 0, 1],\n",
        "    [0, 1, 1, 1]\n",
        "]\n",
        "\n",
        "start = (0, 0)\n",
        "goal = (3, 3)\n",
        "\n",
        "path = astar(grid, start, goal)\n",
        "\n",
        "if path:\n",
        "    print(\"Path found:\", path)\n",
        "else:\n",
        "    print(\"No path found.\")\n"
      ]
    }
  ]
}